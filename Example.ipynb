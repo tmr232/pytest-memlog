{
 "cells": [
  {
   "cell_type": "code",
   "execution_count": 1,
   "id": "f22af405-c047-4e6a-bcb7-735514c67a14",
   "metadata": {
    "tags": []
   },
   "outputs": [],
   "source": [
    "import pandas as pd\n",
    "import altair as alt"
   ]
  },
  {
   "cell_type": "code",
   "execution_count": 2,
   "id": "06374344-610c-4257-8ee9-d18e7a7c04e0",
   "metadata": {
    "tags": []
   },
   "outputs": [],
   "source": [
    "memlog = pd.read_json(\"memlog.json\")"
   ]
  },
  {
   "cell_type": "code",
   "execution_count": 3,
   "id": "5981dcff-549f-4eda-81aa-d2ab68f72582",
   "metadata": {
    "tags": []
   },
   "outputs": [],
   "source": [
    "# Time starts at 0\n",
    "memlog[\"time\"] -= memlog[\"time\"][0]"
   ]
  },
  {
   "cell_type": "code",
   "execution_count": 4,
   "id": "782c5b64-b5a7-4d1d-8d91-988afc62e720",
   "metadata": {
    "tags": []
   },
   "outputs": [],
   "source": [
    "# Get start and end times of all tests\n",
    "test_times = memlog.groupby([\"name\"])[\"time\"].agg([\"min\",\"max\"])\n",
    "test_times = test_times.reset_index()\n",
    "# And drop the non-test\n",
    "test_times = test_times[test_times[\"name\"].astype(bool)]"
   ]
  },
  {
   "cell_type": "code",
   "execution_count": 5,
   "id": "b600ee1b-021e-4c2a-8753-ff2bbaf45a44",
   "metadata": {
    "tags": []
   },
   "outputs": [
    {
     "data": {
      "text/html": [
       "\n",
       "<div id=\"altair-viz-87ce58e4cf16413aaff26627ce675be3\"></div>\n",
       "<script type=\"text/javascript\">\n",
       "  var VEGA_DEBUG = (typeof VEGA_DEBUG == \"undefined\") ? {} : VEGA_DEBUG;\n",
       "  (function(spec, embedOpt){\n",
       "    let outputDiv = document.currentScript.previousElementSibling;\n",
       "    if (outputDiv.id !== \"altair-viz-87ce58e4cf16413aaff26627ce675be3\") {\n",
       "      outputDiv = document.getElementById(\"altair-viz-87ce58e4cf16413aaff26627ce675be3\");\n",
       "    }\n",
       "    const paths = {\n",
       "      \"vega\": \"https://cdn.jsdelivr.net/npm//vega@5?noext\",\n",
       "      \"vega-lib\": \"https://cdn.jsdelivr.net/npm//vega-lib?noext\",\n",
       "      \"vega-lite\": \"https://cdn.jsdelivr.net/npm//vega-lite@4.17.0?noext\",\n",
       "      \"vega-embed\": \"https://cdn.jsdelivr.net/npm//vega-embed@6?noext\",\n",
       "    };\n",
       "\n",
       "    function maybeLoadScript(lib, version) {\n",
       "      var key = `${lib.replace(\"-\", \"\")}_version`;\n",
       "      return (VEGA_DEBUG[key] == version) ?\n",
       "        Promise.resolve(paths[lib]) :\n",
       "        new Promise(function(resolve, reject) {\n",
       "          var s = document.createElement('script');\n",
       "          document.getElementsByTagName(\"head\")[0].appendChild(s);\n",
       "          s.async = true;\n",
       "          s.onload = () => {\n",
       "            VEGA_DEBUG[key] = version;\n",
       "            return resolve(paths[lib]);\n",
       "          };\n",
       "          s.onerror = () => reject(`Error loading script: ${paths[lib]}`);\n",
       "          s.src = paths[lib];\n",
       "        });\n",
       "    }\n",
       "\n",
       "    function showError(err) {\n",
       "      outputDiv.innerHTML = `<div class=\"error\" style=\"color:red;\">${err}</div>`;\n",
       "      throw err;\n",
       "    }\n",
       "\n",
       "    function displayChart(vegaEmbed) {\n",
       "      vegaEmbed(outputDiv, spec, embedOpt)\n",
       "        .catch(err => showError(`Javascript Error: ${err.message}<br>This usually means there's a typo in your chart specification. See the javascript console for the full traceback.`));\n",
       "    }\n",
       "\n",
       "    if(typeof define === \"function\" && define.amd) {\n",
       "      requirejs.config({paths});\n",
       "      require([\"vega-embed\"], displayChart, err => showError(`Error loading script: ${err.message}`));\n",
       "    } else {\n",
       "      maybeLoadScript(\"vega\", \"5\")\n",
       "        .then(() => maybeLoadScript(\"vega-lite\", \"4.17.0\"))\n",
       "        .then(() => maybeLoadScript(\"vega-embed\", \"6\"))\n",
       "        .catch(showError)\n",
       "        .then(() => displayChart(vegaEmbed));\n",
       "    }\n",
       "  })({\"config\": {\"view\": {\"continuousWidth\": 400, \"continuousHeight\": 300}}, \"layer\": [{\"data\": {\"name\": \"data-923d2aba57d4c323ed7d43d9021db141\"}, \"mark\": \"rect\", \"encoding\": {\"color\": {\"field\": \"name\", \"title\": \"Test\", \"type\": \"nominal\"}, \"opacity\": {\"condition\": {\"value\": 0.8, \"selection\": \"selector001\"}, \"value\": 0.2}, \"x\": {\"field\": \"min\", \"type\": \"quantitative\"}, \"x2\": {\"field\": \"max\"}}, \"selection\": {\"selector001\": {\"type\": \"single\", \"fields\": [\"name\"], \"on\": \"click\", \"bind\": \"legend\"}, \"selector002\": {\"type\": \"interval\", \"bind\": \"scales\", \"encodings\": [\"x\", \"y\"]}}}, {\"data\": {\"name\": \"data-da411bf9708b25c716e4f2fecd981f47\"}, \"mark\": \"line\", \"encoding\": {\"color\": {\"value\": \"black\"}, \"x\": {\"field\": \"time\", \"title\": \"Time(Seconds)\", \"type\": \"quantitative\"}, \"y\": {\"field\": \"rss\", \"title\": \"RSS(bytes)\", \"type\": \"quantitative\"}}}], \"title\": \"Memlog\", \"$schema\": \"https://vega.github.io/schema/vega-lite/v4.17.0.json\", \"datasets\": {\"data-923d2aba57d4c323ed7d43d9021db141\": [{\"name\": \"examples/test_example.py::test_a\", \"min\": 0.20300000021234155, \"max\": 1.0940000000409782}, {\"name\": \"examples/test_example.py::test_b\", \"min\": 1.297000000020489, \"max\": 3.219000000040978}], \"data-da411bf9708b25c716e4f2fecd981f47\": [{\"rss\": 38690816, \"time\": 0.0, \"name\": \"\"}, {\"rss\": 59678720, \"time\": 0.0940000000409782, \"name\": \"\"}, {\"rss\": 59678720, \"time\": 0.20300000021234155, \"name\": \"examples/test_example.py::test_a\"}, {\"rss\": 143564800, \"time\": 0.2970000000204891, \"name\": \"examples/test_example.py::test_a\"}, {\"rss\": 143564800, \"time\": 0.3910000000614673, \"name\": \"examples/test_example.py::test_a\"}, {\"rss\": 248422400, \"time\": 0.5, \"name\": \"examples/test_example.py::test_a\"}, {\"rss\": 248422400, \"time\": 0.5940000000409782, \"name\": \"examples/test_example.py::test_a\"}, {\"rss\": 387645440, \"time\": 0.7030000002123415, \"name\": \"examples/test_example.py::test_a\"}, {\"rss\": 562995200, \"time\": 0.7970000000204891, \"name\": \"examples/test_example.py::test_a\"}, {\"rss\": 562995200, \"time\": 0.9060000001918525, \"name\": \"examples/test_example.py::test_a\"}, {\"rss\": 160391168, \"time\": 1.0, \"name\": \"examples/test_example.py::test_a\"}, {\"rss\": 38703104, \"time\": 1.0940000000409782, \"name\": \"examples/test_example.py::test_a\"}, {\"rss\": 61796352, \"time\": 1.2030000002123415, \"name\": \"\"}, {\"rss\": 61796352, \"time\": 1.297000000020489, \"name\": \"examples/test_example.py::test_b\"}, {\"rss\": 72282112, \"time\": 1.4060000001918525, \"name\": \"examples/test_example.py::test_b\"}, {\"rss\": 72282112, \"time\": 1.5, \"name\": \"examples/test_example.py::test_b\"}, {\"rss\": 61796352, \"time\": 1.6100000001024455, \"name\": \"examples/test_example.py::test_b\"}, {\"rss\": 61796352, \"time\": 1.7030000002123415, \"name\": \"examples/test_example.py::test_b\"}, {\"rss\": 81719296, \"time\": 1.8130000000819564, \"name\": \"examples/test_example.py::test_b\"}, {\"rss\": 81719296, \"time\": 1.9060000001918525, \"name\": \"examples/test_example.py::test_b\"}, {\"rss\": 90107904, \"time\": 2.0, \"name\": \"examples/test_example.py::test_b\"}, {\"rss\": 90107904, \"time\": 2.1100000001024455, \"name\": \"examples/test_example.py::test_b\"}, {\"rss\": 76476416, \"time\": 2.2030000002123415, \"name\": \"examples/test_example.py::test_b\"}, {\"rss\": 76476416, \"time\": 2.3130000000819564, \"name\": \"examples/test_example.py::test_b\"}, {\"rss\": 53407744, \"time\": 2.4060000001918525, \"name\": \"examples/test_example.py::test_b\"}, {\"rss\": 53407744, \"time\": 2.5160000000614673, \"name\": \"examples/test_example.py::test_b\"}, {\"rss\": 89059328, \"time\": 2.6100000001024455, \"name\": \"examples/test_example.py::test_b\"}, {\"rss\": 89059328, \"time\": 2.7030000002123415, \"name\": \"examples/test_example.py::test_b\"}, {\"rss\": 41873408, \"time\": 2.8130000000819564, \"name\": \"examples/test_example.py::test_b\"}, {\"rss\": 41873408, \"time\": 2.9060000001918525, \"name\": \"examples/test_example.py::test_b\"}, {\"rss\": 40824832, \"time\": 3.0160000000614673, \"name\": \"examples/test_example.py::test_b\"}, {\"rss\": 40824832, \"time\": 3.1100000001024455, \"name\": \"examples/test_example.py::test_b\"}, {\"rss\": 38723584, \"time\": 3.219000000040978, \"name\": \"examples/test_example.py::test_b\"}, {\"rss\": 38723584, \"time\": 3.3130000000819564, \"name\": \"\"}]}}, {\"mode\": \"vega-lite\"});\n",
       "</script>"
      ],
      "text/plain": [
       "alt.LayerChart(...)"
      ]
     },
     "execution_count": 5,
     "metadata": {},
     "output_type": "execute_result"
    }
   ],
   "source": [
    "selection = alt.selection_single(fields=['name'], on=\"click\", bind=\"legend\")\n",
    "\n",
    "# Set a background for the memory graph, to differentiate the tests.\n",
    "background = alt.Chart(test_times).mark_rect().encode(\n",
    "    x=\"min:Q\",\n",
    "    x2=\"max:Q\",\n",
    "    color=alt.Color(\"name:N\", title=\"Test\"),\n",
    "    opacity=alt.condition(selection, alt.value(0.8), alt.value(0.2))\n",
    ").add_selection(\n",
    "    selection\n",
    ")\n",
    "\n",
    "memory = alt.Chart(memlog).mark_line().encode(\n",
    "    alt.X(\"time:Q\", title=\"Time(Seconds)\"),\n",
    "    alt.Y(\"rss:Q\", title=\"RSS(bytes)\"),\n",
    "    color=alt.value(\"black\")\n",
    ")\n",
    "\n",
    "(background + memory).properties(\n",
    "    title=\"Memlog\"\n",
    ").interactive()\n"
   ]
  },
  {
   "cell_type": "code",
   "execution_count": null,
   "id": "82a9bcc4-2bb9-4eec-b2ff-d504c6aceaf6",
   "metadata": {},
   "outputs": [],
   "source": []
  }
 ],
 "metadata": {
  "kernelspec": {
   "display_name": "Python 3 (ipykernel)",
   "language": "python",
   "name": "python3"
  },
  "language_info": {
   "codemirror_mode": {
    "name": "ipython",
    "version": 3
   },
   "file_extension": ".py",
   "mimetype": "text/x-python",
   "name": "python",
   "nbconvert_exporter": "python",
   "pygments_lexer": "ipython3",
   "version": "3.11.3"
  }
 },
 "nbformat": 4,
 "nbformat_minor": 5
}
